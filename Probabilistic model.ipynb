{
 "cells": [
  {
   "cell_type": "code",
   "execution_count": null,
   "metadata": {},
   "outputs": [],
   "source": [
    "import pandas as pd\n",
    "import random\n",
    "from functools import reduce\n",
    "\n",
    "#Filter out the invalid entries and make one-hot vectors for gender:\n",
    "\n",
    "print(\"lendo arquivo...\")\n",
    "produtos = pd.read_json('data',lines=True)\n",
    "print(\"arquivo lido!\")"
   ]
  },
  {
   "cell_type": "code",
   "execution_count": null,
   "metadata": {
    "collapsed": true
   },
   "outputs": [],
   "source": [
    "produtos = produtos[['productId','gender']].dropna(subset=['productId'])\n",
    "produtos_dummies = pd.get_dummies(produtos['gender'])\n",
    "produtos = pd.concat([produtos,produtos_dummies], axis=1)[['productId','F','M']]"
   ]
  },
  {
   "cell_type": "code",
   "execution_count": null,
   "metadata": {
    "collapsed": true
   },
   "outputs": [],
   "source": [
    "generate_prob_fun = lambda df: (df['M'] + 1)/(df['M'] + df['F'] + 2)\n",
    "\n",
    "produtos = produtos.groupby('productId').sum().assign(probMale = generate_prob_fun)"
   ]
  },
  {
   "cell_type": "code",
   "execution_count": null,
   "metadata": {},
   "outputs": [],
   "source": [
    "notFoundProd = pd.DataFrame({'productId': ['notanumber'],\n",
    "              'F': [0.0],\n",
    "              'M': [0.0],\n",
    "              'probMale': [.5]}).set_index('productId')\n",
    "produtos = pd.concat([produtos, notFoundProd])"
   ]
  },
  {
   "cell_type": "code",
   "execution_count": null,
   "metadata": {
    "collapsed": true
   },
   "outputs": [],
   "source": [
    "target  = pd.read_json(\"target\", lines=True)[['uid', 'productId']]\n",
    "target.productId = target.productId.fillna('notanumber')"
   ]
  },
  {
   "cell_type": "code",
   "execution_count": null,
   "metadata": {},
   "outputs": [],
   "source": [
    "\n",
    "reduce_prob_fun = lambda x,y : (x*y) / ( (x*y) + ((1-x)*(1-y)))\n",
    "def agg_two_probabilities(group):\n",
    "    #Products that doesn't have the probability can be has a 0.5 of probability \n",
    "    return reduce(reduce_prob_fun, group.probMale)\n",
    "\n",
    "uidProbs = target.set_index('productId')\\\n",
    "                 .join(produtos[['probMale']])\\\n",
    "                 .reset_index(drop=True)\\\n",
    "                 .groupby('uid').apply(agg_two_probabilities)\\\n",
    "                 .to_frame()"
   ]
  },
  {
   "cell_type": "code",
   "execution_count": null,
   "metadata": {},
   "outputs": [],
   "source": [
    "def make_response(df):\n",
    "    df.loc[uidProbs[0] < 0.5, 'gender'] = 'F'\n",
    "    df.gender = df.gender.fillna(\"M\")\n",
    "    return df.drop(0, axis = 1)\\\n",
    "             .reset_index()\n",
    "             \n",
    "        \n",
    "#Actually this isn't necessary, i just do it to show how pipe works\n",
    "response = uidProbs.rename(columns={'uid':'userId'})\\\n",
    "                   .pipe(make_response)\n",
    "response.to_csv('attempt2', index=False)"
   ]
  }
 ],
 "metadata": {
  "kernelspec": {
   "display_name": "Python 3",
   "language": "python",
   "name": "python3"
  },
  "language_info": {
   "codemirror_mode": {
    "name": "ipython",
    "version": 3
   },
   "file_extension": ".py",
   "mimetype": "text/x-python",
   "name": "python",
   "nbconvert_exporter": "python",
   "pygments_lexer": "ipython3",
   "version": "3.6.0"
  }
 },
 "nbformat": 4,
 "nbformat_minor": 2
}
